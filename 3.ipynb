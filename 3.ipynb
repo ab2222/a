{
 "cells": [
  {
   "cell_type": "code",
   "execution_count": 3,
   "id": "e7e79b41",
   "metadata": {
    "scrolled": true
   },
   "outputs": [
    {
     "name": "stdout",
     "output_type": "stream",
     "text": [
      "   sunny  warm normal  strong warm.1    same  yes\n",
      "0  sunny  warm   high  strong   warm    same  yes\n",
      "1  rainy  cold   high  strong   warm  change   no\n",
      "2  sunny  warm   high  strong   cool  change  yes\n",
      "['yes' 'no' 'yes']\n",
      "[['sunny' 'warm' 'high' 'strong' 'warm' 'same']\n",
      " ['rainy' 'cold' 'high' 'strong' 'warm' 'change']\n",
      " ['sunny' 'warm' 'high' 'strong' 'cool' 'change']]\n"
     ]
    }
   ],
   "source": [
    "import numpy as np\n",
    "import pandas as pd\n",
    "data = pd.DataFrame(data=pd.read_csv('OneDrive\\Desktop\\data.csv'))\n",
    "print(data)\n",
    "concepts = np.array(data.iloc[:,0:-1])\n",
    "target = np.array(data.iloc[:, -1])\n",
    "print(target)\n",
    "print(concepts)\n",
    "def learn(concepts, target):\n",
    "    specific_h = concepts[0].copy()\n",
    "    print(\"initializatioin of specific_h and general_h\")\n",
    "    print(specific_h)\n",
    "    general_h=[[\"?\" for i in range(len(specific_h))] for i in range (len(specific))]\n",
    "    print(general_h)\n",
    "    for i, h in enumerate(concepts):\n",
    "        if target[i] == \"Yes\":\n",
    "            for x in range(len(secific_h)): \n",
    "                if h[x] != specific_h[x]:\n",
    "                    specific_h[x] = '?'\n",
    "                    general_h[x][x] = '?'\n",
    "        if target[i] == \"No\":\n",
    "            for x in range(len(specific_h)):\n",
    "                if h[x] != specific_h[x]:\n",
    "                    general_h[x][x] = specific_h[x]\n",
    "                else:\n",
    "                    general_h[x][x] = '?'\n",
    "            print(\" steps of Candidate Elimination Algorithm\", i+1)\n",
    "            print(specific_h)\n",
    "            print(general_h)\n",
    "        indices = [i for j, val in enumerate(general_h) if val == ['?', '?', '?', '?', '?', '?']]\n",
    "        for i in indices:\n",
    "            general_h.remove(['?', '?', '?', '?', '?', '?'])\n",
    "        return specific_h, general_h\n",
    "    s_final, g_final = learn(concepts, target)\n",
    "    print(\"Final Specific_h:\", s_final, sep=\"\\n\")\n",
    "    print(\"Final General_h:\", g_final, sep=\"\\n\")"
   ]
  },
  {
   "cell_type": "code",
   "execution_count": null,
   "id": "bd9101d4",
   "metadata": {},
   "outputs": [],
   "source": []
  },
  {
   "cell_type": "code",
   "execution_count": null,
   "id": "35d03309",
   "metadata": {},
   "outputs": [],
   "source": []
  }
 ],
 "metadata": {
  "kernelspec": {
   "display_name": "Python 3 (ipykernel)",
   "language": "python",
   "name": "python3"
  },
  "language_info": {
   "codemirror_mode": {
    "name": "ipython",
    "version": 3
   },
   "file_extension": ".py",
   "mimetype": "text/x-python",
   "name": "python",
   "nbconvert_exporter": "python",
   "pygments_lexer": "ipython3",
   "version": "3.8.8"
  }
 },
 "nbformat": 4,
 "nbformat_minor": 5
}
