{
 "cells": [
  {
   "cell_type": "code",
   "execution_count": 1,
   "id": "ab19b486",
   "metadata": {},
   "outputs": [
    {
     "name": "stdout",
     "output_type": "stream",
     "text": [
      "Total Instances of Dataset:  18\n",
      "   about  amazing  an  awesome  bad  beers  best  boss  can  dance  ...  the  \\\n",
      "0      0        0   0        0    0      0     0     0    0      0  ...    0   \n",
      "1      1        0   0        0    0      1     0     0    0      0  ...    0   \n",
      "2      0        0   0        0    1      0     0     0    0      0  ...    0   \n",
      "3      0        0   0        0    0      0     0     0    0      0  ...    0   \n",
      "4      0        0   0        0    0      0     1     0    0      0  ...    0   \n",
      "\n",
      "   these  this  to  today  very  went  what  with  work  \n",
      "0      0     0   1      1     0     1     0     0     0  \n",
      "1      1     0   0      0     1     0     0     0     0  \n",
      "2      0     0   1      0     0     0     0     0     0  \n",
      "3      0     1   0      0     0     0     0     0     0  \n",
      "4      0     1   0      0     0     0     0     0     1  \n",
      "\n",
      "[5 rows x 44 columns]\n",
      "Accuracy Metrics: \n",
      "\n",
      "Accuracy:  0.6\n",
      "Recall:  1.0\n",
      "Precision:  0.5\n",
      "Confusion Matrix: \n",
      " [[1 2]\n",
      " [0 2]]\n"
     ]
    },
    {
     "name": "stderr",
     "output_type": "stream",
     "text": [
      "C:\\Users\\bhara\\anaconda3\\lib\\site-packages\\sklearn\\utils\\deprecation.py:87: FutureWarning: Function get_feature_names is deprecated; get_feature_names is deprecated in 1.0 and will be removed in 1.2. Please use get_feature_names_out instead.\n",
      "  warnings.warn(msg, category=FutureWarning)\n"
     ]
    }
   ],
   "source": [
    "import pandas as pd\n",
    "from sklearn.model_selection import train_test_split\n",
    "from sklearn.feature_extraction.text import CountVectorizer\n",
    "from sklearn.naive_bayes import MultinomialNB\n",
    "from sklearn import metrics\n",
    "\n",
    "msg = pd.read_csv('OneDrive\\Desktop\\lab6.csv', names=['message', 'label'])\n",
    "\n",
    "print(\"Total Instances of Dataset: \", msg.shape[0])\n",
    "\n",
    "msg['labelnum'] = msg.label.map({'pos': 1, 'neg': 0})\n",
    "x = msg.message\n",
    "y = msg.labelnum\n",
    "\n",
    "xtrain, xtest, ytrain, ytest = train_test_split(x, y)\n",
    "\n",
    "cv = CountVectorizer()\n",
    "xtrain_dm = cv.fit_transform(xtrain)\n",
    "xtest_dm = cv.transform(xtest)\n",
    "df = pd.DataFrame(xtrain_dm.toarray(),columns=cv.get_feature_names())\n",
    "print(df[0:5])\n",
    "\n",
    "clf = MultinomialNB()\n",
    "clf.fit(xtrain_dm, ytrain)\n",
    "pred = clf.predict(xtest_dm)\n",
    "\n",
    "print('Accuracy Metrics: \\n')\n",
    "print('Accuracy: ', metrics.accuracy_score(ytest, pred))\n",
    "print('Recall: ', metrics.recall_score(ytest, pred))\n",
    "print('Precision: ', metrics.precision_score(ytest, pred))\n",
    "print('Confusion Matrix: \\n', metrics.confusion_matrix(ytest, pred))\n",
    "\n"
   ]
  },
  {
   "cell_type": "code",
   "execution_count": null,
   "id": "ba95f983",
   "metadata": {},
   "outputs": [],
   "source": []
  }
 ],
 "metadata": {
  "kernelspec": {
   "display_name": "Python 3 (ipykernel)",
   "language": "python",
   "name": "python3"
  },
  "language_info": {
   "codemirror_mode": {
    "name": "ipython",
    "version": 3
   },
   "file_extension": ".py",
   "mimetype": "text/x-python",
   "name": "python",
   "nbconvert_exporter": "python",
   "pygments_lexer": "ipython3",
   "version": "3.8.8"
  }
 },
 "nbformat": 4,
 "nbformat_minor": 5
}
