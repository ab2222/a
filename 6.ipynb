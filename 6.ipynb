{
 "cells": [
  {
   "cell_type": "code",
   "execution_count": 2,
   "id": "ab19b486",
   "metadata": {},
   "outputs": [
    {
     "name": "stdout",
     "output_type": "stream",
     "text": [
      "Total Instances of Dataset:  18\n",
      "   about  am  amazing  an  and  awesome  bad  beers  best  boss  ...  the  \\\n",
      "0      0   0        0   1    0        1    0      0     0     0  ...    0   \n",
      "1      0   0        1   1    0        0    0      0     0     0  ...    0   \n",
      "2      1   0        0   0    0        0    0      1     0     0  ...    0   \n",
      "3      0   0        0   0    0        0    1      0     0     0  ...    0   \n",
      "4      0   0        0   0    0        0    0      0     0     0  ...    0   \n",
      "\n",
      "   these  this  tired  to  very  view  what  with  work  \n",
      "0      0     1      0   0     0     0     0     0     0  \n",
      "1      0     1      0   0     0     0     0     0     0  \n",
      "2      1     0      0   0     1     0     0     0     0  \n",
      "3      0     0      0   1     0     0     0     0     0  \n",
      "4      0     1      0   0     0     0     0     0     0  \n",
      "\n",
      "[5 rows x 44 columns]\n",
      "This is an awesome place -> neg\n",
      "This is an amazing place -> pos\n",
      "I feel very good about these beers -> neg\n",
      "That is a bad locality to stay -> pos\n",
      "I love this sandwich -> pos\n",
      "Accuracy Metrics: \n",
      "\n",
      "Accuracy:  1.0\n",
      "Recall:  1.0\n",
      "Precision:  1.0\n",
      "Confusion Matrix: \n",
      " [[2 0]\n",
      " [0 3]]\n"
     ]
    },
    {
     "name": "stderr",
     "output_type": "stream",
     "text": [
      "C:\\Users\\bhara\\anaconda3\\lib\\site-packages\\sklearn\\utils\\deprecation.py:87: FutureWarning: Function get_feature_names is deprecated; get_feature_names is deprecated in 1.0 and will be removed in 1.2. Please use get_feature_names_out instead.\n",
      "  warnings.warn(msg, category=FutureWarning)\n"
     ]
    }
   ],
   "source": [
    "import pandas as pd\n",
    "msg = pd.read_csv('OneDrive\\Desktop\\lab6.csv', names=['message', 'label'])\n",
    "print(\"Total Instances of Dataset: \", msg.shape[0])\n",
    "msg['labelnum'] = msg.label.map({'pos': 1, 'neg': 0})\n",
    "\n",
    "X = msg.message\n",
    "y = msg.labelnum\n",
    "from sklearn.model_selection import train_test_split\n",
    "Xtrain, Xtest, ytrain, ytest = train_test_split(X, y)\n",
    "from sklearn.feature_extraction.text import CountVectorizer\n",
    "\n",
    "count_v = CountVectorizer()\n",
    "Xtrain_dm = count_v.fit_transform(Xtrain)\n",
    "Xtest_dm = count_v.transform(Xtest)\n",
    "\n",
    "df = pd.DataFrame(Xtrain_dm.toarray(),columns=count_v.get_feature_names())\n",
    "print(df[0:5])\n",
    "\n",
    "from sklearn.naive_bayes import MultinomialNB\n",
    "clf = MultinomialNB()\n",
    "clf.fit(Xtrain_dm, ytrain)\n",
    "pred = clf.predict(Xtest_dm)\n",
    "\n",
    "for doc, p in zip(Xtrain, pred):\n",
    "    p = 'pos' if p == 1 else 'neg'\n",
    "    print(\"%s -> %s\" % (doc, p))\n",
    "\n",
    "from sklearn.metrics import accuracy_score, confusion_matrix, precision_score, recall_score\n",
    "print('Accuracy Metrics: \\n')\n",
    "print('Accuracy: ', accuracy_score(ytest, pred))\n",
    "print('Recall: ', recall_score(ytest, pred))\n",
    "print('Precision: ', precision_score(ytest, pred))\n",
    "print('Confusion Matrix: \\n', confusion_matrix(ytest, pred))\n",
    "\n"
   ]
  },
  {
   "cell_type": "code",
   "execution_count": null,
   "id": "ba95f983",
   "metadata": {},
   "outputs": [],
   "source": []
  }
 ],
 "metadata": {
  "kernelspec": {
   "display_name": "Python 3 (ipykernel)",
   "language": "python",
   "name": "python3"
  },
  "language_info": {
   "codemirror_mode": {
    "name": "ipython",
    "version": 3
   },
   "file_extension": ".py",
   "mimetype": "text/x-python",
   "name": "python",
   "nbconvert_exporter": "python",
   "pygments_lexer": "ipython3",
   "version": "3.8.8"
  }
 },
 "nbformat": 4,
 "nbformat_minor": 5
}
